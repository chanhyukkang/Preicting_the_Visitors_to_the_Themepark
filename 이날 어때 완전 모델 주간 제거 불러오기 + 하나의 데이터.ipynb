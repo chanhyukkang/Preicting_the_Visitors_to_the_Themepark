{
 "cells": [
  {
   "cell_type": "code",
   "execution_count": 35,
   "metadata": {},
   "outputs": [
    {
     "name": "stderr",
     "output_type": "stream",
     "text": [
      "C:\\Users\\dlgus\\Anaconda3\\lib\\site-packages\\ipykernel_launcher.py:26: SettingWithCopyWarning: \n",
      "A value is trying to be set on a copy of a slice from a DataFrame.\n",
      "Try using .loc[row_indexer,col_indexer] = value instead\n",
      "\n",
      "See the caveats in the documentation: http://pandas.pydata.org/pandas-docs/stable/indexing.html#indexing-view-versus-copy\n",
      "C:\\Users\\dlgus\\Anaconda3\\lib\\site-packages\\ipykernel_launcher.py:27: SettingWithCopyWarning: \n",
      "A value is trying to be set on a copy of a slice from a DataFrame.\n",
      "Try using .loc[row_indexer,col_indexer] = value instead\n",
      "\n",
      "See the caveats in the documentation: http://pandas.pydata.org/pandas-docs/stable/indexing.html#indexing-view-versus-copy\n"
     ]
    },
    {
     "name": "stdout",
     "output_type": "stream",
     "text": [
      "Model loaded\n",
      "예측 입장객 수:  3397.2913 명\n",
      "실제 입장객 수:  690.0 명\n"
     ]
    }
   ],
   "source": [
    "import numpy as np\n",
    "from keras import layers, models\n",
    "from keras.utils import np_utils\n",
    "from keras import optimizers\n",
    "from keras.optimizers import Adam\n",
    "from keras.layers import LSTM, Dense, concatenate\n",
    "from keras.models import Sequential, Model\n",
    "from keras.callbacks import EarlyStopping\n",
    "import keras.backend as K\n",
    "import pandas as pd\n",
    "import matplotlib.pyplot as plt\n",
    "from sklearn.preprocessing import MinMaxScaler\n",
    "\n",
    "inputdate = '2019-1-4'\n",
    "\n",
    "#***************************파일을 읽고, 날짜 column생성*********************************\n",
    "df = pd.read_csv('SeoulGrandPark.csv', engine = 'python')    \n",
    "df[\"날짜\"] = df[\"년도\"].map(str) + '-' +df[\"월\"].map(str) + '-' + df[\"일\"].map(str)\n",
    "df = df.set_index('날짜')\n",
    "\n",
    "split_date_start = '2017-3-30'\n",
    "\n",
    "test = df.loc[split_date_start:]\n",
    "testLSTM = df.loc[split_date_start:, ['일계']]\n",
    "#**************************데이터를 사용가능하도록 변환**********************************\n",
    "test['일계'] = test['일계'].str.replace(',', '')\n",
    "test['일계'] = test['일계'].astype('float')\n",
    "\n",
    "testLSTM['일계'] = testLSTM['일계'].str.replace(',', '')\n",
    "testLSTM['일계'] = testLSTM['일계'].astype('float')\n",
    "#***************************이어서 시계열 데이터만 처리********************************************\n",
    "#*******************************이제는 일단위 시계열 데이터 처리 (반복)***************************\n",
    "dayfrom = 14\n",
    "dayto = 42\n",
    "day = dayto - dayfrom\n",
    "\n",
    "sc = MinMaxScaler()\n",
    "sc.fit([[2],[115002]])\n",
    "test_scLSTM = sc.transform(testLSTM)\n",
    "test_sc_dfLSTM = pd.DataFrame(test_scLSTM, columns=['Scaled'], index=testLSTM.index)\n",
    "\n",
    "for s in range(dayfrom, dayto):\n",
    "    test_sc_dfLSTM['shift_{}'.format(s)] = test_sc_dfLSTM['Scaled'].shift(s)\n",
    "\n",
    "X_testLSTM = test_sc_dfLSTM.dropna().drop('Scaled', axis=1)\n",
    "y_testLSTM = test_sc_dfLSTM.dropna()[['Scaled']]\n",
    "\n",
    "inputdateLSTMX = X_testLSTM.loc[inputdate].values\n",
    "inputdateLSTMXt = inputdateLSTMX.reshape(day,1)\n",
    "# print(inputdateLSTMXt)\n",
    "inputdateLSTMy = y_testLSTM.loc[inputdate].values\n",
    "# print(inputdateLSTMyt)\n",
    "#********************************이어서 DNN용 특성위주 데이터 정리 및 모델에 맞게 변환****************\n",
    "test_df = pd.DataFrame(test)\n",
    "    \n",
    "X_test = test_df.drop(['일계', '년도', '일'], axis=1)\n",
    "y_test = test_df[['일계']]\n",
    "\n",
    "X_test = pd.get_dummies(X_test, columns=['요일', '월'])\n",
    "inputdateDNNX = X_test.loc[inputdate]\n",
    "# print(inputdateDNNX)\n",
    "\n",
    "sc2 = MinMaxScaler()\n",
    "sc2.fit([[0, -14.4, -18, -10.7, 0, 0, 0, 0, 0, 0, 0, 0, 0, 0, 0, 0, 0, 0, 0, 0, 0, 0, 0, 0, 0, 0], \n",
    "[1, 31.8, 28.7, 36.7, 24, 301.5, 1224, 1, 1, 1, 1, 1, 1, 1, 1, 1, 1, 1, 1, 1, 1, 1, 1, 1, 1, 1]])\n",
    "inputdateDNNXt = sc2.transform([inputdateDNNX])\n",
    "# print(inputdateDNNXt)\n",
    "\n",
    "#모델 로드\n",
    "from keras.models import load_model\n",
    "model4 = load_model('thisday2.h5')\n",
    "print(\"Model loaded\")\n",
    "\n",
    "Y_pred = model4.predict([[inputdateLSTMXt], inputdateDNNXt])\n",
    "ypred = sc.inverse_transform(Y_pred)\n",
    "yactual = sc.inverse_transform([inputdateLSTMy])\n",
    "print(\"예측 입장객 수: \", ypred[0][0], \"명\")\n",
    "print(\"실제 입장객 수: \", yactual[0][0], \"명\")"
   ]
  },
  {
   "cell_type": "code",
   "execution_count": null,
   "metadata": {},
   "outputs": [],
   "source": []
  }
 ],
 "metadata": {
  "kernelspec": {
   "display_name": "Python 3",
   "language": "python",
   "name": "python3"
  },
  "language_info": {
   "codemirror_mode": {
    "name": "ipython",
    "version": 3
   },
   "file_extension": ".py",
   "mimetype": "text/x-python",
   "name": "python",
   "nbconvert_exporter": "python",
   "pygments_lexer": "ipython3",
   "version": "3.7.3"
  }
 },
 "nbformat": 4,
 "nbformat_minor": 2
}
